{
 "metadata": {
  "name": "",
  "signature": "sha256:8072bbc9380a9b9c122745223dd4f6f614dd99797277a9774145d3a5bd2d444f"
 },
 "nbformat": 3,
 "nbformat_minor": 0,
 "worksheets": [
  {
   "cells": [
    {
     "cell_type": "code",
     "collapsed": false,
     "input": [
      "%pylab inline"
     ],
     "language": "python",
     "metadata": {},
     "outputs": [
      {
       "output_type": "stream",
       "stream": "stdout",
       "text": [
        "Populating the interactive namespace from numpy and matplotlib\n"
       ]
      }
     ],
     "prompt_number": 29
    },
    {
     "cell_type": "code",
     "collapsed": false,
     "input": [
      "data=loadtxt(\"sparse_sample_monthrg.dat\")\n",
      "size_data=shape(data)\n",
      "\n",
      "n_points=size_data[1]\n",
      "\n",
      "x_data=zeros(n_points)\n",
      "y_data=zeros(n_points)\n",
      "\n",
      "x1=data[:,1]/12.0\n",
      "x2= data[:,0]\n",
      "\n",
      "\n",
      "x_data=x1+x2\n",
      "y_data=data[:,3]\n",
      "    \n",
      "matriz=zeros([n_points,n_points])\n",
      "\n",
      "functions=zeros(n_points)\n",
      "\n",
      "\n"
     ],
     "language": "python",
     "metadata": {},
     "outputs": [],
     "prompt_number": 62
    },
    {
     "cell_type": "code",
     "collapsed": false,
     "input": [
      "def function(x):\n",
      "  suma=zeros(len(x))\n",
      "  for l in range(len(x)):\n",
      "    for i in range(n_points):\n",
      "      for j in range(n_points):\n",
      "        if(i!=j):\n",
      "         matriz[i][j]= (x[l]-x_data[j])/(x_data[i]-x_data[j])\n",
      "        else:\n",
      "         matriz[i][j]=1\n",
      "            \n",
      "    for i in range(n_points):\n",
      "        vectortomultiply=matriz[i][:]\n",
      "        functions[i]= y_data[i]*prod(vectortomultiply)\n",
      "    suma[l]=sum(functions)\n",
      "  return suma\n",
      "\n",
      "        \n",
      "        "
     ],
     "language": "python",
     "metadata": {},
     "outputs": [],
     "prompt_number": 99
    },
    {
     "cell_type": "code",
     "collapsed": false,
     "input": [
      "tiempo=linspace(1610,1995,1000)\n",
      "scatter(x_data,y_data)\n",
      "plot(tiempo,function(tiempo))\n"
     ],
     "language": "python",
     "metadata": {},
     "outputs": [
      {
       "metadata": {},
       "output_type": "pyout",
       "prompt_number": 105,
       "text": [
        "[<matplotlib.lines.Line2D at 0x588cb50>]"
       ]
      },
      {
       "metadata": {},
       "output_type": "display_data",
       "png": "[encoded data removed]",
       "text": [
        "<matplotlib.figure.Figure at 0x3f5b750>"
       ]
      }
     ],
     "prompt_number": 105
    },
    {
     "cell_type": "code",
     "collapsed": false,
     "input": [],
     "language": "python",
     "metadata": {},
     "outputs": [],
     "prompt_number": 105
    },
    {
     "cell_type": "code",
     "collapsed": false,
     "input": [],
     "language": "python",
     "metadata": {},
     "outputs": []
    },
    {
     "cell_type": "code",
     "collapsed": false,
     "input": [],
     "language": "python",
     "metadata": {},
     "outputs": []
    }
   ],
   "metadata": {}
  }
 ]
}